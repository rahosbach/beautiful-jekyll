{
 "cells": [
  {
   "cell_type": "markdown",
   "metadata": {},
   "source": [
    "# Time Series Analysis of ATP vs. WTA Upsets\n",
    "\n",
    "This notebook takes a look at ATP and WTA Tour match data dating back to 1968.  In particular, I analyze the fraction of matches per year that resulted in an upset.  The final cell has an interactive plot for which the user can specify numerous variables:\n",
    "- How an upset is defined.\n",
    "- How many years of data to use for a moving average (to smooth the results).\n",
    "- What time frame (in years) to visualize."
   ]
  },
  {
   "cell_type": "code",
   "execution_count": null,
   "metadata": {},
   "outputs": [],
   "source": [
    "import pandas as pd\n",
    "import numpy as np\n",
    "import matplotlib.pyplot as plt # For plotting\n",
    "import matplotlib.ticker as ticker # For formatting y-axis labels as percents\n",
    "from ipywidgets import interact, fixed # For generating an interactive plot\n",
    "import ipywidgets as widgets # For widgets in interactive plot\n",
    "\n",
    "# For showing plots in the notebook\n",
    "% matplotlib inline "
   ]
  },
  {
   "cell_type": "markdown",
   "metadata": {},
   "source": [
    "## Download Data into Pandas"
   ]
  },
  {
   "cell_type": "code",
   "execution_count": null,
   "metadata": {
    "collapsed": true
   },
   "outputs": [],
   "source": [
    "# Generate list of URLs to download CSVs from\n",
    "# Source:\n",
    "# Jeff Sackmann\n",
    "# https://github.com/JeffSackmann (`tennis_atp` and `tennis_wta` repositories)\n",
    "\n",
    "years = np.arange(1968, 2019).astype(str)\n",
    "atpfiles = ['https://raw.githubusercontent.com/JeffSackmann/tennis_atp/master/atp_matches_' + x + '.csv' for x in years]\n",
    "wtafiles = ['https://raw.githubusercontent.com/JeffSackmann/tennis_wta/master/wta_matches_' + x + '.csv' for x in years]\n",
    "\n",
    "# Takes a little time to collect all the data\n",
    "# Need to specify encoding for WTA data to get around a UnicodeDecodeError\n",
    "atp = pd.concat([pd.read_csv(f) for f in atpfiles], ignore_index=True)\n",
    "wta = pd.concat([pd.read_csv(f, encoding='latin-1') for f in wtafiles], ignore_index=True)"
   ]
  },
  {
   "cell_type": "markdown",
   "metadata": {},
   "source": [
    "## Format and Filter Data for Plotting"
   ]
  },
  {
   "cell_type": "code",
   "execution_count": null,
   "metadata": {},
   "outputs": [],
   "source": [
    "# Convert `tourney_date` column to datetime\n",
    "atp.tourney_date = pd.to_datetime(atp.tourney_date, format='%Y%m%d')\n",
    "wta.tourney_date = pd.to_datetime(wta.tourney_date, format='%Y%m%d')\n",
    "\n",
    "# Filter data:\n",
    "# - Only consider Masters Series and Grand Slam tournaments\n",
    "# - Only consider clay, grass, and hard surfaces (not carpet)\n",
    "# - Only keep matches for which the winner and loser ranks are present\n",
    "atp_filtered = atp.loc[\n",
    "    (atp.winner_rank >= 1) &\n",
    "    (atp.loser_rank >= 1) &\n",
    "    ((atp.tourney_level == 'M') | (atp.tourney_level == 'G')) &\n",
    "    (atp.surface != \"Carpet\"),\n",
    "    ['surface', 'tourney_level', 'tourney_date', 'winner_rank', 'loser_rank']]\n",
    "atp_filtered['year'] = atp_filtered.tourney_date.dt.year\n",
    "\n",
    "wta_filtered = wta.loc[\n",
    "    (wta.winner_rank >= 1) &\n",
    "    (wta.loser_rank >= 1) &\n",
    "    ((wta.tourney_level == 'M') | (wta.tourney_level == 'G')) &\n",
    "    (wta.surface != \"Carpet\"),\n",
    "    ['surface', 'tourney_level', 'tourney_date', 'winner_rank', 'loser_rank']]\n",
    "wta_filtered['year'] = wta_filtered.tourney_date.dt.year\n",
    "\n",
    "# View data sample\n",
    "atp_filtered.head()"
   ]
  },
  {
   "cell_type": "markdown",
   "metadata": {},
   "source": [
    "## Create Interactive Plots"
   ]
  },
  {
   "cell_type": "code",
   "execution_count": null,
   "metadata": {
    "collapsed": true
   },
   "outputs": [],
   "source": [
    "def upset_plot(atp, wta, Threshold, Rolling, Years):\n",
    "    '''Method to generate two side-by-side plots (ATP and WTA, respectively)\n",
    "    of the fraction of matches resulting in an upset (defined by user) by \n",
    "    year.'''\n",
    "    \n",
    "    # Define what an \"upset\" is\n",
    "    atp['upset'] = atp.winner_rank - atp.loser_rank >= Threshold\n",
    "    wta['upset'] = wta.winner_rank - wta.loser_rank >= Threshold\n",
    "    \n",
    "    # Filter to only consider user-selected year range:\n",
    "    atp = atp.loc[(atp.year >= Years[0]) & (atp.year <= Years[1])]\n",
    "    wta = wta.loc[(wta.year >= Years[0]) & (wta.year <= Years[1])]\n",
    "    \n",
    "    # Calculate total upsets by year and surface type\n",
    "    atp_upsets = pd.DataFrame(\n",
    "        atp.groupby(['year','surface'])['upset'].sum())\n",
    "    wta_upsets = pd.DataFrame(\n",
    "        wta.groupby(['year','surface'])['upset'].sum())\n",
    "        \n",
    "    # Calculate total matches by year and surface type\n",
    "    atp_total_matches = pd.DataFrame(\n",
    "        atp.groupby(['year','surface'])['upset'].apply(lambda x: x.shape[0]))\n",
    "    wta_total_matches = pd.DataFrame(\n",
    "        wta.groupby(['year','surface'])['upset'].apply(lambda x: x.shape[0]))\n",
    " \n",
    "    # Generate side-by-side plots\n",
    "    \n",
    "    # Set color palette so that colors align with surface type:\n",
    "    # Red = clay, green = grass, blue = hard\n",
    "    mycolors = ['r','g','b']\n",
    "    \n",
    "    # Create figure and axes (2) for subplots\n",
    "    # Set axis and figure settings\n",
    "    fig, (ax, ax2) = plt.subplots(ncols=2, sharey=True)\n",
    "    ax.set_ylabel(\"Percent of Matches Resulting in Upset\", fontsize=16)\n",
    "    ax2.set_ylabel(\"Percent of Matches Resulting in Upset\", fontsize=16)\n",
    "    ax.set_title(\"ATP\", fontsize=18)\n",
    "    ax2.set_title(\"WTA\", fontsize=18)\n",
    "    ax.tick_params(labelsize=12)\n",
    "    ax2.tick_params(labelsize=12)\n",
    "    fig.patch.set_facecolor('white')\n",
    "    fig.set_size_inches(16, 8)\n",
    "    fig.suptitle(str(Rolling)+\"-Year Moving Average of Upsets by Surface Type\\n\"+\n",
    "                 \"(Upset: Winner Rank - Loser Rank ≥ \" + str(Threshold)+\")\", fontsize=20)\n",
    "    \n",
    "    # ATP plot\n",
    "    atp_plot = pd.DataFrame(\n",
    "        atp_upsets.div(atp_total_matches)*100).reset_index(\n",
    "        level=['year', 'surface']).pivot(\n",
    "        index='year', columns='surface', values='upset').rename_axis(\n",
    "        '').rolling(Rolling).mean().plot(\n",
    "        kind='line',\n",
    "        xlim=[Years[0], Years[1]],\n",
    "        ylim=[0, 50],\n",
    "        color=mycolors,\n",
    "        ax=ax)\n",
    "    \n",
    "    # WTA plot\n",
    "    wta_plot = pd.DataFrame(\n",
    "        wta_upsets.div(wta_total_matches)*100).reset_index(\n",
    "        level=['year', 'surface']).pivot(\n",
    "        index='year', columns='surface', values='upset').rename_axis(\n",
    "        '').rolling(Rolling).mean().plot(\n",
    "        kind='line',\n",
    "        xlim=[Years[0], Years[1]],\n",
    "        ylim=[0, 50],\n",
    "        color=mycolors,\n",
    "        ax=ax2)\n",
    "    \n",
    "    # Show y-axis labels as percents\n",
    "    ax.yaxis.set_major_formatter(ticker.PercentFormatter())"
   ]
  },
  {
   "cell_type": "code",
   "execution_count": null,
   "metadata": {},
   "outputs": [],
   "source": [
    "# Generate interactive plots\n",
    "interact(upset_plot,\n",
    "         atp=fixed(atp_filtered),\n",
    "         wta=fixed(wta_filtered),\n",
    "         Threshold=widgets.IntSlider(min=1, max=50, step=1, value=5, description='Ranking Difference Threshold:'),\n",
    "         Rolling=widgets.IntSlider(min=1, max=10, step=1, value=3, description='Moving Average (years):'),\n",
    "         Years=widgets.IntRangeSlider(min=1968, max=2018, step=1, value=[1990, 2018]))"
   ]
  }
 ],
 "metadata": {
  "kernelspec": {
   "display_name": "Python 3",
   "language": "python",
   "name": "python3"
  },
  "language_info": {
   "codemirror_mode": {
    "name": "ipython",
    "version": 3
   },
   "file_extension": ".py",
   "mimetype": "text/x-python",
   "name": "python",
   "nbconvert_exporter": "python",
   "pygments_lexer": "ipython3",
   "version": "3.6.3"
  }
 },
 "nbformat": 4,
 "nbformat_minor": 2
}
